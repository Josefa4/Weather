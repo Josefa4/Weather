{
 "cells": [
  {
   "cell_type": "code",
   "execution_count": 283,
   "metadata": {},
   "outputs": [
    {
     "name": "stdout",
     "output_type": "stream",
     "text": [
      "year       int64\n",
      "month      int64\n",
      "meant    float64\n",
      "maxtp    float64\n",
      "mintp    float64\n",
      "mnmax    float64\n",
      "mnmin    float64\n",
      "rain     float64\n",
      "gmin      object\n",
      "wdsp      object\n",
      "maxgt     object\n",
      "sun       object\n",
      "dtype: object\n"
     ]
    },
    {
     "name": "stderr",
     "output_type": "stream",
     "text": [
      "C:\\Users\\Owner\\Anaconda3\\lib\\site-packages\\ipykernel_launcher.py:35: SettingWithCopyWarning: \n",
      "A value is trying to be set on a copy of a slice from a DataFrame\n",
      "\n",
      "See the caveats in the documentation: https://pandas.pydata.org/pandas-docs/stable/user_guide/indexing.html#returning-a-view-versus-a-copy\n",
      "C:\\Users\\Owner\\Anaconda3\\lib\\site-packages\\ipykernel_launcher.py:39: SettingWithCopyWarning: \n",
      "A value is trying to be set on a copy of a slice from a DataFrame\n",
      "\n",
      "See the caveats in the documentation: https://pandas.pydata.org/pandas-docs/stable/user_guide/indexing.html#returning-a-view-versus-a-copy\n",
      "C:\\Users\\Owner\\Anaconda3\\lib\\site-packages\\ipykernel_launcher.py:43: SettingWithCopyWarning: \n",
      "A value is trying to be set on a copy of a slice from a DataFrame\n",
      "\n",
      "See the caveats in the documentation: https://pandas.pydata.org/pandas-docs/stable/user_guide/indexing.html#returning-a-view-versus-a-copy\n",
      "C:\\Users\\Owner\\Anaconda3\\lib\\site-packages\\ipykernel_launcher.py:47: SettingWithCopyWarning: \n",
      "A value is trying to be set on a copy of a slice from a DataFrame\n",
      "\n",
      "See the caveats in the documentation: https://pandas.pydata.org/pandas-docs/stable/user_guide/indexing.html#returning-a-view-versus-a-copy\n"
     ]
    }
   ],
   "source": [
    "import pandas as pd\n",
    "import numpy as np\n",
    "import datetime\n",
    "\n",
    "#download data, organize into arrays\n",
    "\n",
    "df = pd.read_csv(\"mly2275.csv\", comment='#')\n",
    "#print(df.head())\n",
    "\n",
    "X1=df.iloc[:, 0]\n",
    "X2=df.iloc[:, 1]\n",
    "\n",
    "#making X an array of dates \n",
    "X=[]\n",
    "for i in range(np.size(X1, 0)):\n",
    "    X.append(datetime.date(X1[i], X2[i], 1))\n",
    "X=np.array(X)\n",
    "\n",
    "y1=df.iloc[:, 2]\n",
    "y2=df.iloc[:, 3]\n",
    "y3=df.iloc[:, 4]\n",
    "y4=df.iloc[:, 5]\n",
    "y5=df.iloc[:, 6]\n",
    "y6=df.iloc[:, 7]\n",
    "y7=df.iloc[:, 8] \n",
    "y8=df.iloc[:, 9]\n",
    "y9=df.iloc[:, 10]\n",
    "y10=df.iloc[:, 11]\n",
    "\n",
    "print(df.dtypes) #some of our columns came out as 'object' (string) --> we'll have to fix that\n",
    "#                --> where the data's missing, use average of 2 surrounding points It's not perfect, but should be sufficient\n",
    "\n",
    "for i in range(np.size(y7, 0)):\n",
    "    if y7[i]=='None':\n",
    "        y7[i]=(float(y7[i-1])+float(y7[i+1]))/2\n",
    "y7=y7.astype(float)\n",
    "for i in range(np.size(y8, 0)):\n",
    "    if y8[i]=='None':\n",
    "        y8[i]=(float(y8[i-1])+float(y8[i+1]))/2\n",
    "y8=y8.astype(float)\n",
    "for i in range(np.size(y9, 0)):\n",
    "    if y9[i]=='None':\n",
    "        y9[i]=(float(y9[i-1])+float(y9[i+1]))/2\n",
    "y9=y9.astype(float)\n",
    "for i in range(np.size(y10, 0)):\n",
    "    if y10[i]=='None':\n",
    "        y10[i]=None\n",
    "y10=y10.astype(float)\n",
    "\n",
    "#we're not including hours of sun in our data, because it's missing for the past decade\n",
    "y=np.column_stack((y1, y2, y3, y4, y5, y6, y7, y8, y9))"
   ]
  },
  {
   "cell_type": "code",
   "execution_count": 284,
   "metadata": {},
   "outputs": [
    {
     "data": {
      "application/vnd.jupyter.widget-view+json": {
       "model_id": "7519947538ea49a998ea296489b9e75b",
       "version_major": 2,
       "version_minor": 0
      },
      "text/plain": [
       "Canvas(toolbar=Toolbar(toolitems=[('Home', 'Reset original view', 'home', 'home'), ('Back', 'Back to previous …"
      ]
     },
     "metadata": {},
     "output_type": "display_data"
    },
    {
     "data": {
      "application/vnd.jupyter.widget-view+json": {
       "model_id": "b0c146dfc6514d889374f1c85e8ccd1d",
       "version_major": 2,
       "version_minor": 0
      },
      "text/plain": [
       "Canvas(toolbar=Toolbar(toolitems=[('Home', 'Reset original view', 'home', 'home'), ('Back', 'Back to previous …"
      ]
     },
     "metadata": {},
     "output_type": "display_data"
    }
   ],
   "source": [
    "\n",
    "#visualise data\n",
    "\n",
    "import matplotlib.pyplot as plt\n",
    "%matplotlib widget\n",
    "\n",
    "#timeline - each variable on its own\n",
    "\n",
    "f=plt.figure(figsize=(10,9))\n",
    "f.add_subplot(10, 1, 1)\n",
    "plt.plot(X, y1, color='orange', label='mean temp')\n",
    "f.add_subplot(10, 1, 2)\n",
    "plt.plot(X, y2, color='red', label='max temp')\n",
    "f.add_subplot(10, 1, 3)\n",
    "plt.plot(X, y3, color='blue', label='min temp')\n",
    "f.add_subplot(10, 1, 4)\n",
    "plt.plot(X, y4, color='red',linestyle='dashed', label='mean max temp')\n",
    "f.add_subplot(10, 1, 5)\n",
    "plt.plot(X, y5, color='blue',linestyle='dashed', label='mean min temp')\n",
    "f.add_subplot(10, 1, 6)\n",
    "plt.plot(X, y6, color='lightsteelblue', label='rain')\n",
    "f.add_subplot(10, 1, 7)\n",
    "plt.plot(X, y7, color='green', label='grass mean temp')\n",
    "f.add_subplot(10, 1, 8)\n",
    "plt.plot(X, y8, color='plum', label='wind')\n",
    "f.add_subplot(10, 1, 9)\n",
    "plt.plot(X, y9, color='purple', label='highest gust')\n",
    "f.add_subplot(10, 1, 10)\n",
    "plt.plot(X, y10, color='gold', label='sun') #note that sun data disappears around 2010 - 2015\n",
    "f.legend()\n",
    "plt.show()\n",
    "\n",
    "#last 30 yrs - comparing variables that seem related --> slice [612:None]\n",
    "f=plt.figure(figsize=(10,9))\n",
    "f.add_subplot(4, 1, 1)\n",
    "plt.plot(X[612:None], y1[612:None], color='orange', label='mean temp')\n",
    "plt.plot(X[612:None], y2[612:None], color='red', label='max temp')\n",
    "plt.plot(X[612:None], y3[612:None], color='blue', label='min temp')\n",
    "plt.legend()\n",
    "f.add_subplot(4, 1, 2)\n",
    "plt.plot(X[612:None], y4[612:None], color='red', label='mean max temp')\n",
    "plt.plot(X[612:None], y5[612:None], color='blue', label='mean min temp')\n",
    "plt.legend()\n",
    "f.add_subplot(4, 1, 3)\n",
    "plt.plot(X[612:None], y6[612:None], color='lightsteelblue', label='rain')\n",
    "plt.plot(X[612:None], y10[612:None], color='gold', label='sun') #note that sun data disappears around 2010 - 2015\n",
    "plt.legend()\n",
    "f.add_subplot(4, 1, 4)\n",
    "plt.plot(X[612:None], y8[612:None], color='plum', label='wind')\n",
    "plt.plot(X[612:None], y9[612:None], color='purple', label='highest gust')\n",
    "plt.legend()\n",
    "plt.show()"
   ]
  },
  {
   "cell_type": "code",
   "execution_count": 285,
   "metadata": {},
   "outputs": [],
   "source": [
    "#prep data for model\n",
    "from sklearn.linear_model import Ridge\n",
    "from sklearn.model_selection import KFold\n",
    "from sklearn.metrics import mean_squared_error\n",
    "from sklearn.model_selection import train_test_split\n",
    "from sklearn.preprocessing import PolynomialFeatures\n",
    "\n",
    "#transform X datetime into a numerical value for the model\n",
    "X1=[]; X2=[]\n",
    "for z in range(np.size(X)):\n",
    "    X1.append(X[z].year)\n",
    "    X2.append(X[z].month)\n",
    "X1=np.array(X1);X2=np.array(X2)\n",
    "X=np.column_stack((X1, X2, (X1*12+X2).reshape(-1, 1)))\n",
    "poly = PolynomialFeatures(4)\n",
    "X = poly.fit_transform(X)"
   ]
  },
  {
   "cell_type": "code",
   "execution_count": 288,
   "metadata": {},
   "outputs": [
    {
     "data": {
      "application/vnd.jupyter.widget-view+json": {
       "model_id": "3848e443e58742a2ab311fd6cea28545",
       "version_major": 2,
       "version_minor": 0
      },
      "text/plain": [
       "Canvas(toolbar=Toolbar(toolitems=[('Home', 'Reset original view', 'home', 'home'), ('Back', 'Back to previous …"
      ]
     },
     "metadata": {},
     "output_type": "display_data"
    },
    {
     "data": {
      "application/vnd.jupyter.widget-view+json": {
       "model_id": "4e166683d60f4105b6ec2aff4beecbfb",
       "version_major": 2,
       "version_minor": 0
      },
      "text/plain": [
       "Canvas(toolbar=Toolbar(toolitems=[('Home', 'Reset original view', 'home', 'home'), ('Back', 'Back to previous …"
      ]
     },
     "metadata": {},
     "output_type": "display_data"
    },
    {
     "data": {
      "text/plain": [
       "<matplotlib.legend.Legend at 0x2052b886648>"
      ]
     },
     "execution_count": 288,
     "metadata": {},
     "output_type": "execute_result"
    }
   ],
   "source": [
    "#Ridge Regression\n",
    "C_range=[1, 5, 10, 20, 50, 75, 100, 150, 200]\n",
    "MSE=[]\n",
    "std_error=[]\n",
    "for C in C_range:\n",
    "    ridge= Ridge(alpha=1/(2*C))\n",
    "    kf = KFold(n_splits=5)\n",
    "    temp=[]\n",
    "    for train, test in kf.split(X):\n",
    "        ridge.fit(X[train], y[train])\n",
    "        ypred = ridge.predict(X[test])\n",
    "        temp.append(mean_squared_error(y[test],ypred))\n",
    "    temp=np.array(temp)\n",
    "    MSE.append(temp.mean())\n",
    "    std_error.append(temp.std())\n",
    "MSE=np.array(MSE)\n",
    "std_error=np.array(std_error)\n",
    "fig = plt.figure()\n",
    "plt.errorbar(C_range, MSE, yerr=std_error, linewidth=3)\n",
    "plt.xlabel('C')\n",
    "plt.ylabel('Mean square error')\n",
    "plt.show()\n",
    "plt.figure()\n",
    "plt.plot(X[test][:,3], ypred[:,1], label='preds')\n",
    "plt.plot(X[test][:,3], y[test][:,1], label='actual values')\n",
    "plt.legend()"
   ]
  },
  {
   "cell_type": "code",
   "execution_count": 287,
   "metadata": {},
   "outputs": [
    {
     "name": "stdout",
     "output_type": "stream",
     "text": [
      "[[1.00000000e+00 1.93900000e+03 1.00000000e+01 ... 5.41865284e+10\n",
      "  1.26135401e+14 2.93617986e+17]\n",
      " [1.00000000e+00 1.93900000e+03 1.10000000e+01 ... 6.55713328e+10\n",
      "  1.38766823e+14 2.93668443e+17]\n",
      " [1.00000000e+00 1.93900000e+03 1.20000000e+01 ... 7.80420096e+10\n",
      "  1.51401499e+14 2.93718907e+17]\n",
      " ...\n",
      " [1.00000000e+00 2.02000000e+03 8.00000000e+00 ... 3.76297923e+10\n",
      "  1.14055900e+14 3.45703434e+17]\n",
      " [1.00000000e+00 2.02000000e+03 9.00000000e+00 ... 4.76291341e+10\n",
      "  1.28328764e+14 3.45760465e+17]\n",
      " [1.00000000e+00 2.02000000e+03 1.00000000e+01 ... 5.88062500e+10\n",
      "  1.42605156e+14 3.45817504e+17]]\n"
     ]
    },
    {
     "ename": "ValueError",
     "evalue": "matmul: Input operand 1 has a mismatch in its core dimension 0, with gufunc signature (n?,k),(k,m?)->(n?,m?) (size 35 is different from 15)",
     "output_type": "error",
     "traceback": [
      "\u001b[1;31m---------------------------------------------------------------------------\u001b[0m",
      "\u001b[1;31mValueError\u001b[0m                                Traceback (most recent call last)",
      "\u001b[1;32m<ipython-input-287-54576b2ab693>\u001b[0m in \u001b[0;36m<module>\u001b[1;34m\u001b[0m\n\u001b[0;32m      4\u001b[0m        [2021, 7], [2021, 8], [2021, 9], [2021, 10], [2021, 11], [2021, 12]]\n\u001b[0;32m      5\u001b[0m \u001b[0mX2021\u001b[0m\u001b[1;33m=\u001b[0m \u001b[0mpoly\u001b[0m\u001b[1;33m.\u001b[0m\u001b[0mfit_transform\u001b[0m\u001b[1;33m(\u001b[0m\u001b[0mX2021\u001b[0m\u001b[1;33m)\u001b[0m\u001b[1;33m\u001b[0m\u001b[1;33m\u001b[0m\u001b[0m\n\u001b[1;32m----> 6\u001b[1;33m \u001b[0mpreds\u001b[0m\u001b[1;33m=\u001b[0m\u001b[0mridge\u001b[0m\u001b[1;33m.\u001b[0m\u001b[0mpredict\u001b[0m\u001b[1;33m(\u001b[0m\u001b[0mX2021\u001b[0m\u001b[1;33m)\u001b[0m\u001b[1;33m\u001b[0m\u001b[1;33m\u001b[0m\u001b[0m\n\u001b[0m\u001b[0;32m      7\u001b[0m \u001b[0mplt\u001b[0m\u001b[1;33m.\u001b[0m\u001b[0mfigure\u001b[0m\u001b[1;33m(\u001b[0m\u001b[1;33m)\u001b[0m\u001b[1;33m\u001b[0m\u001b[1;33m\u001b[0m\u001b[0m\n\u001b[0;32m      8\u001b[0m \u001b[0mplt\u001b[0m\u001b[1;33m.\u001b[0m\u001b[0mplot\u001b[0m\u001b[1;33m(\u001b[0m\u001b[0mX2021\u001b[0m\u001b[1;33m[\u001b[0m\u001b[1;33m:\u001b[0m\u001b[1;33m,\u001b[0m\u001b[1;36m2\u001b[0m\u001b[1;33m]\u001b[0m\u001b[1;33m,\u001b[0m \u001b[0mpreds\u001b[0m\u001b[1;33m[\u001b[0m\u001b[1;33m:\u001b[0m\u001b[1;33m,\u001b[0m\u001b[1;36m2\u001b[0m\u001b[1;33m]\u001b[0m\u001b[1;33m)\u001b[0m\u001b[1;33m\u001b[0m\u001b[1;33m\u001b[0m\u001b[0m\n",
      "\u001b[1;32m~\\Anaconda3\\lib\\site-packages\\sklearn\\linear_model\\_base.py\u001b[0m in \u001b[0;36mpredict\u001b[1;34m(self, X)\u001b[0m\n\u001b[0;32m    234\u001b[0m             \u001b[0mReturns\u001b[0m \u001b[0mpredicted\u001b[0m \u001b[0mvalues\u001b[0m\u001b[1;33m.\u001b[0m\u001b[1;33m\u001b[0m\u001b[1;33m\u001b[0m\u001b[0m\n\u001b[0;32m    235\u001b[0m         \"\"\"\n\u001b[1;32m--> 236\u001b[1;33m         \u001b[1;32mreturn\u001b[0m \u001b[0mself\u001b[0m\u001b[1;33m.\u001b[0m\u001b[0m_decision_function\u001b[0m\u001b[1;33m(\u001b[0m\u001b[0mX\u001b[0m\u001b[1;33m)\u001b[0m\u001b[1;33m\u001b[0m\u001b[1;33m\u001b[0m\u001b[0m\n\u001b[0m\u001b[0;32m    237\u001b[0m \u001b[1;33m\u001b[0m\u001b[0m\n\u001b[0;32m    238\u001b[0m     \u001b[0m_preprocess_data\u001b[0m \u001b[1;33m=\u001b[0m \u001b[0mstaticmethod\u001b[0m\u001b[1;33m(\u001b[0m\u001b[0m_preprocess_data\u001b[0m\u001b[1;33m)\u001b[0m\u001b[1;33m\u001b[0m\u001b[1;33m\u001b[0m\u001b[0m\n",
      "\u001b[1;32m~\\Anaconda3\\lib\\site-packages\\sklearn\\linear_model\\_base.py\u001b[0m in \u001b[0;36m_decision_function\u001b[1;34m(self, X)\u001b[0m\n\u001b[0;32m    218\u001b[0m         \u001b[0mX\u001b[0m \u001b[1;33m=\u001b[0m \u001b[0mcheck_array\u001b[0m\u001b[1;33m(\u001b[0m\u001b[0mX\u001b[0m\u001b[1;33m,\u001b[0m \u001b[0maccept_sparse\u001b[0m\u001b[1;33m=\u001b[0m\u001b[1;33m[\u001b[0m\u001b[1;34m'csr'\u001b[0m\u001b[1;33m,\u001b[0m \u001b[1;34m'csc'\u001b[0m\u001b[1;33m,\u001b[0m \u001b[1;34m'coo'\u001b[0m\u001b[1;33m]\u001b[0m\u001b[1;33m)\u001b[0m\u001b[1;33m\u001b[0m\u001b[1;33m\u001b[0m\u001b[0m\n\u001b[0;32m    219\u001b[0m         return safe_sparse_dot(X, self.coef_.T,\n\u001b[1;32m--> 220\u001b[1;33m                                dense_output=True) + self.intercept_\n\u001b[0m\u001b[0;32m    221\u001b[0m \u001b[1;33m\u001b[0m\u001b[0m\n\u001b[0;32m    222\u001b[0m     \u001b[1;32mdef\u001b[0m \u001b[0mpredict\u001b[0m\u001b[1;33m(\u001b[0m\u001b[0mself\u001b[0m\u001b[1;33m,\u001b[0m \u001b[0mX\u001b[0m\u001b[1;33m)\u001b[0m\u001b[1;33m:\u001b[0m\u001b[1;33m\u001b[0m\u001b[1;33m\u001b[0m\u001b[0m\n",
      "\u001b[1;32m~\\Anaconda3\\lib\\site-packages\\sklearn\\utils\\validation.py\u001b[0m in \u001b[0;36minner_f\u001b[1;34m(*args, **kwargs)\u001b[0m\n\u001b[0;32m     70\u001b[0m                           FutureWarning)\n\u001b[0;32m     71\u001b[0m         \u001b[0mkwargs\u001b[0m\u001b[1;33m.\u001b[0m\u001b[0mupdate\u001b[0m\u001b[1;33m(\u001b[0m\u001b[1;33m{\u001b[0m\u001b[0mk\u001b[0m\u001b[1;33m:\u001b[0m \u001b[0marg\u001b[0m \u001b[1;32mfor\u001b[0m \u001b[0mk\u001b[0m\u001b[1;33m,\u001b[0m \u001b[0marg\u001b[0m \u001b[1;32min\u001b[0m \u001b[0mzip\u001b[0m\u001b[1;33m(\u001b[0m\u001b[0msig\u001b[0m\u001b[1;33m.\u001b[0m\u001b[0mparameters\u001b[0m\u001b[1;33m,\u001b[0m \u001b[0margs\u001b[0m\u001b[1;33m)\u001b[0m\u001b[1;33m}\u001b[0m\u001b[1;33m)\u001b[0m\u001b[1;33m\u001b[0m\u001b[1;33m\u001b[0m\u001b[0m\n\u001b[1;32m---> 72\u001b[1;33m         \u001b[1;32mreturn\u001b[0m \u001b[0mf\u001b[0m\u001b[1;33m(\u001b[0m\u001b[1;33m**\u001b[0m\u001b[0mkwargs\u001b[0m\u001b[1;33m)\u001b[0m\u001b[1;33m\u001b[0m\u001b[1;33m\u001b[0m\u001b[0m\n\u001b[0m\u001b[0;32m     73\u001b[0m     \u001b[1;32mreturn\u001b[0m \u001b[0minner_f\u001b[0m\u001b[1;33m\u001b[0m\u001b[1;33m\u001b[0m\u001b[0m\n\u001b[0;32m     74\u001b[0m \u001b[1;33m\u001b[0m\u001b[0m\n",
      "\u001b[1;32m~\\Anaconda3\\lib\\site-packages\\sklearn\\utils\\extmath.py\u001b[0m in \u001b[0;36msafe_sparse_dot\u001b[1;34m(a, b, dense_output)\u001b[0m\n\u001b[0;32m    151\u001b[0m             \u001b[0mret\u001b[0m \u001b[1;33m=\u001b[0m \u001b[0mnp\u001b[0m\u001b[1;33m.\u001b[0m\u001b[0mdot\u001b[0m\u001b[1;33m(\u001b[0m\u001b[0ma\u001b[0m\u001b[1;33m,\u001b[0m \u001b[0mb\u001b[0m\u001b[1;33m)\u001b[0m\u001b[1;33m\u001b[0m\u001b[1;33m\u001b[0m\u001b[0m\n\u001b[0;32m    152\u001b[0m     \u001b[1;32melse\u001b[0m\u001b[1;33m:\u001b[0m\u001b[1;33m\u001b[0m\u001b[1;33m\u001b[0m\u001b[0m\n\u001b[1;32m--> 153\u001b[1;33m         \u001b[0mret\u001b[0m \u001b[1;33m=\u001b[0m \u001b[0ma\u001b[0m \u001b[1;33m@\u001b[0m \u001b[0mb\u001b[0m\u001b[1;33m\u001b[0m\u001b[1;33m\u001b[0m\u001b[0m\n\u001b[0m\u001b[0;32m    154\u001b[0m \u001b[1;33m\u001b[0m\u001b[0m\n\u001b[0;32m    155\u001b[0m     if (sparse.issparse(a) and sparse.issparse(b)\n",
      "\u001b[1;31mValueError\u001b[0m: matmul: Input operand 1 has a mismatch in its core dimension 0, with gufunc signature (n?,k),(k,m?)->(n?,m?) (size 35 is different from 15)"
     ]
    }
   ],
   "source": [
    "#test on tiny y2021 set\n",
    "print(X)\n",
    "X2021=[[2021, 1], [2021, 2], [2021, 3], [2021, 4], [2021, 5], [2021, 6],\n",
    "       [2021, 7], [2021, 8], [2021, 9], [2021, 10], [2021, 11], [2021, 12]]\n",
    "X2021= poly.fit_transform(X2021)\n",
    "preds=ridge.predict(X2021)\n",
    "plt.figure()\n",
    "plt.plot(X2021[:,2], preds[:,2])\n",
    "plt.show()\n",
    "print(X2021)"
   ]
  },
  {
   "cell_type": "code",
   "execution_count": null,
   "metadata": {},
   "outputs": [],
   "source": [
    "from sklearn.linear_model import Lasso\n",
    "from sklearn.model_selection import cross_val_score\n",
    "C = [1, 5, 10, 25, 100]\n",
    "m =[]\n",
    "s = []\n",
    "for c in C:\n",
    "    lasso = Lasso(alpha=1/c)\n",
    "    k = KFold(n_splits=5)\n",
    "    t = []\n",
    "    for tr, te in kf.split(X):\n",
    "        lasso.fit(X[tr], y[tr])   \n",
    "        yp = lasso.predict(X[te])\n",
    "        t.append(y[te], ypred)\n",
    "    t = np.array(t)\n",
    "    m.append(t.mean())\n",
    "    s.append(t.std())\n",
    "plt.errorbar(C, m, yerr=s, linewidth=3)\n",
    "plt.xlabel('C values')\n",
    "plt.ylabel('Mean Squared Error')\n",
    "plt.show()\n",
    "    \n",
    "    \n",
    "   \n",
    "    "
   ]
  }
 ],
 "metadata": {
  "kernelspec": {
   "display_name": "Python 3",
   "language": "python",
   "name": "python3"
  },
  "language_info": {
   "codemirror_mode": {
    "name": "ipython",
    "version": 3
   },
   "file_extension": ".py",
   "mimetype": "text/x-python",
   "name": "python",
   "nbconvert_exporter": "python",
   "pygments_lexer": "ipython3",
   "version": "3.7.9"
  }
 },
 "nbformat": 4,
 "nbformat_minor": 4
}
