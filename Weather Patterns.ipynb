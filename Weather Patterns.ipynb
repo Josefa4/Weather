{
 "cells": [
  {
   "cell_type": "code",
   "execution_count": 3,
   "metadata": {},
   "outputs": [
    {
     "name": "stdout",
     "output_type": "stream",
     "text": [
      "   year  month  meant  maxtp  mintp  mnmax  mnmin   rain  gmin  wdsp maxgt  \\\n",
      "0  1939     10   10.0   16.8    0.0   13.2    6.7  105.5  -4.4   9.9    55   \n",
      "1  1939     11   10.3   14.0    4.0   12.4    8.1  251.9   0.5  13.9    60   \n",
      "2  1939     12    6.0   13.6   -3.3    8.7    3.3  116.9  -7.8  10.6    59   \n",
      "3  1940      1    5.8   12.3   -5.6    8.4    3.3  163.8  -8.4  11.6    51   \n",
      "4  1940      2    7.9   12.8   -3.9   10.1    5.7  179.6  -5.8  13.0    55   \n",
      "\n",
      "     sun  \n",
      "0  140.0  \n",
      "1   36.4  \n",
      "2   65.8  \n",
      "3   76.3  \n",
      "4   67.2  \n"
     ]
    }
   ],
   "source": [
    "import pandas as pd\n",
    "import numpy as np\n",
    "\n",
    "df = pd.read_csv(\"mly2275.csv\", comment='#')\n",
    "print(df.head())"
   ]
  }
 ],
 "metadata": {
  "kernelspec": {
   "display_name": "Python 3",
   "language": "python",
   "name": "python3"
  },
  "language_info": {
   "codemirror_mode": {
    "name": "ipython",
    "version": 3
   },
   "file_extension": ".py",
   "mimetype": "text/x-python",
   "name": "python",
   "nbconvert_exporter": "python",
   "pygments_lexer": "ipython3",
   "version": "3.7.3"
  }
 },
 "nbformat": 4,
 "nbformat_minor": 4
}
