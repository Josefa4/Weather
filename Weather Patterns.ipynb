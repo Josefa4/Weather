{
 "cells": [
  {
   "cell_type": "code",
   "execution_count": 233,
   "metadata": {},
   "outputs": [
    {
     "name": "stdout",
     "output_type": "stream",
     "text": [
      "year       int64\n",
      "month      int64\n",
      "meant    float64\n",
      "maxtp    float64\n",
      "mintp    float64\n",
      "mnmax    float64\n",
      "mnmin    float64\n",
      "rain     float64\n",
      "gmin      object\n",
      "wdsp      object\n",
      "maxgt     object\n",
      "sun       object\n",
      "dtype: object\n"
     ]
    },
    {
     "name": "stderr",
     "output_type": "stream",
     "text": [
      "C:\\Users\\Owner\\Anaconda3\\lib\\site-packages\\ipykernel_launcher.py:35: SettingWithCopyWarning: \n",
      "A value is trying to be set on a copy of a slice from a DataFrame\n",
      "\n",
      "See the caveats in the documentation: https://pandas.pydata.org/pandas-docs/stable/user_guide/indexing.html#returning-a-view-versus-a-copy\n",
      "C:\\Users\\Owner\\Anaconda3\\lib\\site-packages\\ipykernel_launcher.py:39: SettingWithCopyWarning: \n",
      "A value is trying to be set on a copy of a slice from a DataFrame\n",
      "\n",
      "See the caveats in the documentation: https://pandas.pydata.org/pandas-docs/stable/user_guide/indexing.html#returning-a-view-versus-a-copy\n",
      "C:\\Users\\Owner\\Anaconda3\\lib\\site-packages\\ipykernel_launcher.py:43: SettingWithCopyWarning: \n",
      "A value is trying to be set on a copy of a slice from a DataFrame\n",
      "\n",
      "See the caveats in the documentation: https://pandas.pydata.org/pandas-docs/stable/user_guide/indexing.html#returning-a-view-versus-a-copy\n",
      "C:\\Users\\Owner\\Anaconda3\\lib\\site-packages\\ipykernel_launcher.py:47: SettingWithCopyWarning: \n",
      "A value is trying to be set on a copy of a slice from a DataFrame\n",
      "\n",
      "See the caveats in the documentation: https://pandas.pydata.org/pandas-docs/stable/user_guide/indexing.html#returning-a-view-versus-a-copy\n"
     ]
    }
   ],
   "source": [
    "import pandas as pd\n",
    "import numpy as np\n",
    "import datetime\n",
    "\n",
    "#download data, organize into arrays\n",
    "\n",
    "df = pd.read_csv(\"mly2275.csv\", comment='#')\n",
    "#print(df.head())\n",
    "\n",
    "X1=df.iloc[:, 0]\n",
    "X2=df.iloc[:, 1]\n",
    "\n",
    "#making X an array of dates \n",
    "X=[]\n",
    "for i in range(np.size(X1, 0)):\n",
    "    X.append(datetime.date(X1[i], X2[i], 1))\n",
    "X=np.array(X)\n",
    "\n",
    "y1=df.iloc[:, 2]\n",
    "y2=df.iloc[:, 3]\n",
    "y3=df.iloc[:, 4]\n",
    "y4=df.iloc[:, 5]\n",
    "y5=df.iloc[:, 6]\n",
    "y6=df.iloc[:, 7]\n",
    "y7=df.iloc[:, 8] \n",
    "y8=df.iloc[:, 9]\n",
    "y9=df.iloc[:, 10]\n",
    "y10=df.iloc[:, 11]\n",
    "\n",
    "print(df.dtypes) #some of our columns came out as 'object' (string) --> we'll have to fix that\n",
    "#                --> where the data's missing, use average of 2 surrounding points It's not perfect, but should be sufficient\n",
    "\n",
    "for i in range(np.size(y7, 0)):\n",
    "    if y7[i]=='None':\n",
    "        y7[i]=(float(y7[i-1])+float(y7[i+1]))/2\n",
    "y7=y7.astype(float)\n",
    "for i in range(np.size(y8, 0)):\n",
    "    if y8[i]=='None':\n",
    "        y8[i]=(float(y8[i-1])+float(y8[i+1]))/2\n",
    "y8=y8.astype(float)\n",
    "for i in range(np.size(y9, 0)):\n",
    "    if y9[i]=='None':\n",
    "        y9[i]=(float(y9[i-1])+float(y9[i+1]))/2\n",
    "y9=y9.astype(float)\n",
    "for i in range(np.size(y10, 0)):\n",
    "    if y10[i]=='None':\n",
    "        y10[i]=None\n",
    "y10=y10.astype(float)\n",
    "\n",
    "#we're not including hours of sun in our data, because it's missing for the past decade\n",
    "y=np.column_stack((y1, y2, y3, y4, y5, y6, y7, y8, y9))"
   ]
  },
  {
   "cell_type": "code",
   "execution_count": 234,
   "metadata": {},
   "outputs": [
    {
     "data": {
      "application/vnd.jupyter.widget-view+json": {
       "model_id": "f5a699bc47a84f8882029c3255d1c11b",
       "version_major": 2,
       "version_minor": 0
      },
      "text/plain": [
       "Canvas(toolbar=Toolbar(toolitems=[('Home', 'Reset original view', 'home', 'home'), ('Back', 'Back to previous …"
      ]
     },
     "metadata": {},
     "output_type": "display_data"
    },
    {
     "data": {
      "application/vnd.jupyter.widget-view+json": {
       "model_id": "8b73191c16164228b946c3c3eda48188",
       "version_major": 2,
       "version_minor": 0
      },
      "text/plain": [
       "Canvas(toolbar=Toolbar(toolitems=[('Home', 'Reset original view', 'home', 'home'), ('Back', 'Back to previous …"
      ]
     },
     "metadata": {},
     "output_type": "display_data"
    }
   ],
   "source": [
    "\n",
    "#visualise data\n",
    "\n",
    "import matplotlib.pyplot as plt\n",
    "%matplotlib widget\n",
    "\n",
    "#timeline - each variable on its own\n",
    "\n",
    "f=plt.figure(figsize=(10,9))\n",
    "f.add_subplot(10, 1, 1)\n",
    "plt.plot(X, y1, color='orange', label='mean temp')\n",
    "f.add_subplot(10, 1, 2)\n",
    "plt.plot(X, y2, color='red', label='max temp')\n",
    "f.add_subplot(10, 1, 3)\n",
    "plt.plot(X, y3, color='blue', label='min temp')\n",
    "f.add_subplot(10, 1, 4)\n",
    "plt.plot(X, y4, color='red',linestyle='dashed', label='mean max temp')\n",
    "f.add_subplot(10, 1, 5)\n",
    "plt.plot(X, y5, color='blue',linestyle='dashed', label='mean min temp')\n",
    "f.add_subplot(10, 1, 6)\n",
    "plt.plot(X, y6, color='lightsteelblue', label='rain')\n",
    "f.add_subplot(10, 1, 7)\n",
    "plt.plot(X, y7, color='green', label='grass mean temp')\n",
    "f.add_subplot(10, 1, 8)\n",
    "plt.plot(X, y8, color='plum', label='wind')\n",
    "f.add_subplot(10, 1, 9)\n",
    "plt.plot(X, y9, color='purple', label='highest gust')\n",
    "f.add_subplot(10, 1, 10)\n",
    "plt.plot(X, y10, color='gold', label='sun') #note that sun data disappears around 2010 - 2015\n",
    "f.legend()\n",
    "plt.show()\n",
    "\n",
    "#last 30 yrs - comparing variables that seem related --> slice [612:None]\n",
    "f=plt.figure(figsize=(10,9))\n",
    "f.add_subplot(4, 1, 1)\n",
    "plt.plot(X[612:None], y1[612:None], color='orange', label='mean temp')\n",
    "plt.plot(X[612:None], y2[612:None], color='red', label='max temp')\n",
    "plt.plot(X[612:None], y3[612:None], color='blue', label='min temp')\n",
    "plt.legend()\n",
    "f.add_subplot(4, 1, 2)\n",
    "plt.plot(X[612:None], y4[612:None], color='red', label='mean max temp')\n",
    "plt.plot(X[612:None], y5[612:None], color='blue', label='mean min temp')\n",
    "plt.legend()\n",
    "f.add_subplot(4, 1, 3)\n",
    "plt.plot(X[612:None], y6[612:None], color='lightsteelblue', label='rain')\n",
    "plt.plot(X[612:None], y10[612:None], color='gold', label='sun') #note that sun data disappears around 2010 - 2015\n",
    "plt.legend()\n",
    "f.add_subplot(4, 1, 4)\n",
    "plt.plot(X[612:None], y8[612:None], color='plum', label='wind')\n",
    "plt.plot(X[612:None], y9[612:None], color='purple', label='highest gust')\n",
    "plt.legend()\n",
    "plt.show()"
   ]
  },
  {
   "cell_type": "code",
   "execution_count": 235,
   "metadata": {},
   "outputs": [],
   "source": [
    "#prep data for model\n",
    "from sklearn.linear_model import Ridge\n",
    "from sklearn.model_selection import KFold\n",
    "from sklearn.metrics import mean_squared_error\n",
    "from sklearn.model_selection import train_test_split\n",
    "from sklearn.preprocessing import PolynomialFeatures\n",
    "\n",
    "#transform X datetime into a numerical value for the model\n",
    "X1=[]; X2=[]\n",
    "for z in range(np.size(X)):\n",
    "    X1.append(X[z].year)\n",
    "    X2.append(X[z].month)\n",
    "X1=np.array(X1);X2=np.array(X2)\n",
    "X=np.column_stack((X1, X2))\n",
    "poly = PolynomialFeatures(2)\n",
    "X = poly.fit_transform(X)"
   ]
  },
  {
   "cell_type": "code",
   "execution_count": 247,
   "metadata": {},
   "outputs": [
    {
     "data": {
      "application/vnd.jupyter.widget-view+json": {
       "model_id": "5a15c26c6dfe4dfcabec83276b3e1674",
       "version_major": 2,
       "version_minor": 0
      },
      "text/plain": [
       "Canvas(toolbar=Toolbar(toolitems=[('Home', 'Reset original view', 'home', 'home'), ('Back', 'Back to previous …"
      ]
     },
     "metadata": {},
     "output_type": "display_data"
    },
    {
     "data": {
      "application/vnd.jupyter.widget-view+json": {
       "model_id": "b34022bb5c8042caa55a265c4acc6da1",
       "version_major": 2,
       "version_minor": 0
      },
      "text/plain": [
       "Canvas(toolbar=Toolbar(toolitems=[('Home', 'Reset original view', 'home', 'home'), ('Back', 'Back to previous …"
      ]
     },
     "metadata": {},
     "output_type": "display_data"
    },
    {
     "data": {
      "text/plain": [
       "<matplotlib.legend.Legend at 0x2052382eb08>"
      ]
     },
     "execution_count": 247,
     "metadata": {},
     "output_type": "execute_result"
    }
   ],
   "source": [
    "#Ridge Regression\n",
    "C_range=[1, 5, 10, 20, 50, 75, 100, 150, 200]\n",
    "MSE=[]\n",
    "std_error=[]\n",
    "for C in C_range:\n",
    "    ridge= Ridge(alpha=1/(2*C))\n",
    "    kf = KFold(n_splits=5)\n",
    "    temp=[]\n",
    "    for train, test in kf.split(X):\n",
    "        ridge.fit(X[train], y[train])\n",
    "        ypred = ridge.predict(X[test])\n",
    "        temp.append(mean_squared_error(y[test],ypred))\n",
    "    temp=np.array(temp)\n",
    "    MSE.append(temp.mean())\n",
    "    std_error.append(temp.std())\n",
    "MSE=np.array(MSE)\n",
    "std_error=np.array(std_error)\n",
    "fig = plt.figure()\n",
    "plt.errorbar(C_range, MSE, yerr=std_error, linewidth=3)\n",
    "plt.xlabel('C')\n",
    "plt.ylabel('Mean square error')\n",
    "plt.show()\n",
    "plt.figure()\n",
    "plt.plot(X[test][:,2], ypred[:,2], label='preds')\n",
    "plt.plot(X[test][:,2], y[test][:,2], label='actual values')\n",
    "plt.legend()"
   ]
  },
  {
   "cell_type": "code",
   "execution_count": 246,
   "metadata": {},
   "outputs": [
    {
     "name": "stdout",
     "output_type": "stream",
     "text": [
      "[[1.000000e+00 1.939000e+03 1.000000e+01 3.759721e+06 1.939000e+04\n",
      "  1.000000e+02]\n",
      " [1.000000e+00 1.939000e+03 1.100000e+01 3.759721e+06 2.132900e+04\n",
      "  1.210000e+02]\n",
      " [1.000000e+00 1.939000e+03 1.200000e+01 3.759721e+06 2.326800e+04\n",
      "  1.440000e+02]\n",
      " ...\n",
      " [1.000000e+00 2.020000e+03 8.000000e+00 4.080400e+06 1.616000e+04\n",
      "  6.400000e+01]\n",
      " [1.000000e+00 2.020000e+03 9.000000e+00 4.080400e+06 1.818000e+04\n",
      "  8.100000e+01]\n",
      " [1.000000e+00 2.020000e+03 1.000000e+01 4.080400e+06 2.020000e+04\n",
      "  1.000000e+02]]\n"
     ]
    },
    {
     "data": {
      "application/vnd.jupyter.widget-view+json": {
       "model_id": "a99819d951814b41a68ebbf0a9e432eb",
       "version_major": 2,
       "version_minor": 0
      },
      "text/plain": [
       "Canvas(toolbar=Toolbar(toolitems=[('Home', 'Reset original view', 'home', 'home'), ('Back', 'Back to previous …"
      ]
     },
     "metadata": {},
     "output_type": "display_data"
    },
    {
     "name": "stdout",
     "output_type": "stream",
     "text": [
      "[[1.000000e+00 2.021000e+03 1.000000e+00 4.084441e+06 2.021000e+03\n",
      "  1.000000e+00]\n",
      " [1.000000e+00 2.021000e+03 2.000000e+00 4.084441e+06 4.042000e+03\n",
      "  4.000000e+00]\n",
      " [1.000000e+00 2.021000e+03 3.000000e+00 4.084441e+06 6.063000e+03\n",
      "  9.000000e+00]\n",
      " [1.000000e+00 2.021000e+03 4.000000e+00 4.084441e+06 8.084000e+03\n",
      "  1.600000e+01]\n",
      " [1.000000e+00 2.021000e+03 5.000000e+00 4.084441e+06 1.010500e+04\n",
      "  2.500000e+01]\n",
      " [1.000000e+00 2.021000e+03 6.000000e+00 4.084441e+06 1.212600e+04\n",
      "  3.600000e+01]\n",
      " [1.000000e+00 2.021000e+03 7.000000e+00 4.084441e+06 1.414700e+04\n",
      "  4.900000e+01]\n",
      " [1.000000e+00 2.021000e+03 8.000000e+00 4.084441e+06 1.616800e+04\n",
      "  6.400000e+01]\n",
      " [1.000000e+00 2.021000e+03 9.000000e+00 4.084441e+06 1.818900e+04\n",
      "  8.100000e+01]\n",
      " [1.000000e+00 2.021000e+03 1.000000e+01 4.084441e+06 2.021000e+04\n",
      "  1.000000e+02]\n",
      " [1.000000e+00 2.021000e+03 1.100000e+01 4.084441e+06 2.223100e+04\n",
      "  1.210000e+02]\n",
      " [1.000000e+00 2.021000e+03 1.200000e+01 4.084441e+06 2.425200e+04\n",
      "  1.440000e+02]]\n"
     ]
    }
   ],
   "source": [
    "#test on tiny y2021 set\n",
    "print(X)\n",
    "X2021=[[2021, 1], [2021, 2], [2021, 3], [2021, 4], [2021, 5], [2021, 6],\n",
    "       [2021, 7], [2021, 8], [2021, 9], [2021, 10], [2021, 11], [2021, 12]]\n",
    "X2021= poly.fit_transform(X2021)\n",
    "preds=ridge.predict(X2021)\n",
    "plt.figure()\n",
    "plt.plot(X2021[:,2], preds[:,2])\n",
    "plt.show()\n",
    "print(X2021)"
   ]
  },
  {
   "cell_type": "code",
   "execution_count": null,
   "metadata": {},
   "outputs": [],
   "source": [
    "from sklearn.linear_model import Lasso\n",
    "from sklearn.model_selection import cross_val_score\n",
    "C = [1, 5, 10, 25, 100]\n",
    "m =[]\n",
    "s = []\n",
    "for c in C:\n",
    "    lasso = Lasso(alpha=1/c)\n",
    "    k = KFold(n_splits=5)\n",
    "    t = []\n",
    "    for tr, te in kf.split(X):\n",
    "        lasso.fit(X[tr], y[tr])   \n",
    "        yp = lasso.predict(X[te])\n",
    "        t.append(y[te], ypred)\n",
    "    t = np.array(t)\n",
    "    m.append(t.mean())\n",
    "    s.append(t.std())\n",
    "plt.errorbar(C, m, yerr=s, linewidth=3)\n",
    "plt.xlabel('C values')\n",
    "plt.ylabel('Mean Squared Error')\n",
    "plt.show()\n",
    "    \n",
    "    \n",
    "   \n",
    "    "
   ]
  }
 ],
 "metadata": {
  "kernelspec": {
   "display_name": "Python 3",
   "language": "python",
   "name": "python3"
  },
  "language_info": {
   "codemirror_mode": {
    "name": "ipython",
    "version": 3
   },
   "file_extension": ".py",
   "mimetype": "text/x-python",
   "name": "python",
   "nbconvert_exporter": "python",
   "pygments_lexer": "ipython3",
   "version": "3.7.9"
  }
 },
 "nbformat": 4,
 "nbformat_minor": 4
}
