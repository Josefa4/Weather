{
 "cells": [
  {
   "cell_type": "code",
   "execution_count": 115,
   "metadata": {},
   "outputs": [
    {
     "name": "stdout",
     "output_type": "stream",
     "text": [
      "year       int64\n",
      "month      int64\n",
      "meant    float64\n",
      "maxtp    float64\n",
      "mintp    float64\n",
      "mnmax    float64\n",
      "mnmin    float64\n",
      "rain     float64\n",
      "gmin      object\n",
      "wdsp      object\n",
      "maxgt     object\n",
      "sun       object\n",
      "dtype: object\n"
     ]
    },
    {
     "name": "stderr",
     "output_type": "stream",
     "text": [
      "C:\\Users\\Owner\\Anaconda3\\lib\\site-packages\\ipykernel_launcher.py:35: SettingWithCopyWarning: \n",
      "A value is trying to be set on a copy of a slice from a DataFrame\n",
      "\n",
      "See the caveats in the documentation: https://pandas.pydata.org/pandas-docs/stable/user_guide/indexing.html#returning-a-view-versus-a-copy\n",
      "C:\\Users\\Owner\\Anaconda3\\lib\\site-packages\\ipykernel_launcher.py:39: SettingWithCopyWarning: \n",
      "A value is trying to be set on a copy of a slice from a DataFrame\n",
      "\n",
      "See the caveats in the documentation: https://pandas.pydata.org/pandas-docs/stable/user_guide/indexing.html#returning-a-view-versus-a-copy\n",
      "C:\\Users\\Owner\\Anaconda3\\lib\\site-packages\\ipykernel_launcher.py:43: SettingWithCopyWarning: \n",
      "A value is trying to be set on a copy of a slice from a DataFrame\n",
      "\n",
      "See the caveats in the documentation: https://pandas.pydata.org/pandas-docs/stable/user_guide/indexing.html#returning-a-view-versus-a-copy\n",
      "C:\\Users\\Owner\\Anaconda3\\lib\\site-packages\\ipykernel_launcher.py:47: SettingWithCopyWarning: \n",
      "A value is trying to be set on a copy of a slice from a DataFrame\n",
      "\n",
      "See the caveats in the documentation: https://pandas.pydata.org/pandas-docs/stable/user_guide/indexing.html#returning-a-view-versus-a-copy\n"
     ]
    }
   ],
   "source": [
    "import pandas as pd\n",
    "import numpy as np\n",
    "import datetime\n",
    "\n",
    "#download data, organize into arrays\n",
    "\n",
    "df = pd.read_csv(\"mly2275.csv\", comment='#')\n",
    "#print(df.head())\n",
    "\n",
    "y1=df.iloc[:, 0]\n",
    "y2=df.iloc[:, 1]\n",
    "\n",
    "#making y an array of dates \n",
    "y=[]\n",
    "for i in range(np.size(y1, 0)):\n",
    "    y.append(datetime.date(y1[i], y2[i], 1))\n",
    "y=np.array(y)\n",
    "\n",
    "X1=df.iloc[:, 2]\n",
    "X2=df.iloc[:, 3]\n",
    "X3=df.iloc[:, 4]\n",
    "X4=df.iloc[:, 5]\n",
    "X5=df.iloc[:, 6]\n",
    "X6=df.iloc[:, 7]\n",
    "X7=df.iloc[:, 8] \n",
    "X8=df.iloc[:, 9]\n",
    "X9=df.iloc[:, 10]\n",
    "X10=df.iloc[:, 11]\n",
    "\n",
    "print(df.dtypes) #some of our columns came out as 'object' (string) --> we'll have to fix that\n",
    "#                --> where the data's missing, use average of 2 surrounding points It's not perfect, but should be sufficient\n",
    "\n",
    "for i in range(np.size(X7, 0)):\n",
    "    if X7[i]=='None':\n",
    "        X7[i]=(float(X7[i-1])+float(X7[i+1]))/2\n",
    "X7=X7.astype(float)\n",
    "for i in range(np.size(X8, 0)):\n",
    "    if X8[i]=='None':\n",
    "        X8[i]=(float(X8[i-1])+float(X8[i+1]))/2\n",
    "X8=X8.astype(float)\n",
    "for i in range(np.size(X9, 0)):\n",
    "    if X9[i]=='None':\n",
    "        X9[i]=(float(X9[i-1])+float(X9[i+1]))/2\n",
    "X9=X9.astype(float)\n",
    "for i in range(np.size(X10, 0)):\n",
    "    if X10[i]=='None':\n",
    "        X10[i]=None\n",
    "X10=X10.astype(float)\n",
    "\n",
    "#we're not including hours of sun in our data, because it's missing for the past decade\n",
    "X=np.column_stack((X1, X2, X3, X4, X5, X6, X7, X8, X9))\n"
   ]
  },
  {
   "cell_type": "code",
   "execution_count": 116,
   "metadata": {
    "scrolled": false
   },
   "outputs": [
    {
     "data": {
      "application/vnd.jupyter.widget-view+json": {
       "model_id": "61b76c85a44d415281928368b353dbe5",
       "version_major": 2,
       "version_minor": 0
      },
      "text/plain": [
       "Canvas(toolbar=Toolbar(toolitems=[('Home', 'Reset original view', 'home', 'home'), ('Back', 'Back to previous …"
      ]
     },
     "metadata": {},
     "output_type": "display_data"
    }
   ],
   "source": [
    "#take a look at data pre-normalisation: last 30 yrs - comparing variables that seem related --> slice [612:None]\n",
    "\n",
    "import matplotlib.pyplot as plt\n",
    "%matplotlib widget\n",
    "\n",
    "\n",
    "f=plt.figure(figsize=(10,9))\n",
    "f.add_subplot(4, 1, 1)\n",
    "plt.plot(y[612:None], X1[612:None], color='orange', label='mean temp')\n",
    "plt.plot(y[612:None], X2[612:None], color='red', label='max temp')\n",
    "plt.plot(y[612:None], X3[612:None], color='blue', label='min temp')\n",
    "plt.legend()\n",
    "f.add_subplot(4, 1, 2)\n",
    "plt.plot(y[612:None], X4[612:None], color='red', label='mean max temp')\n",
    "plt.plot(y[612:None], X5[612:None], color='blue', label='mean min temp')\n",
    "plt.legend()\n",
    "f.add_subplot(4, 1, 3)\n",
    "plt.plot(y[612:None], X6[612:None], color='lightsteelblue', label='rain')\n",
    "plt.plot(y[612:None], X10[612:None], color='gold', label='sun') #note that sun data disappears around 2010 - 2015\n",
    "plt.legend()\n",
    "f.add_subplot(4, 1, 4)\n",
    "plt.plot(y[612:None], X8[612:None], color='plum', label='wind')\n",
    "plt.plot(y[612:None], X9[612:None], color='purple', label='highest gust')\n",
    "plt.legend()\n",
    "plt.show()\n"
   ]
  },
  {
   "cell_type": "code",
   "execution_count": 117,
   "metadata": {},
   "outputs": [
    {
     "data": {
      "application/vnd.jupyter.widget-view+json": {
       "model_id": "d4af10c39fc0474fab728e3a73172002",
       "version_major": 2,
       "version_minor": 0
      },
      "text/plain": [
       "Canvas(toolbar=Toolbar(toolitems=[('Home', 'Reset original view', 'home', 'home'), ('Back', 'Back to previous …"
      ]
     },
     "metadata": {},
     "output_type": "display_data"
    },
    {
     "data": {
      "application/vnd.jupyter.widget-view+json": {
       "model_id": "9514678f8fe94d1b9d3c8f2a587c88fa",
       "version_major": 2,
       "version_minor": 0
      },
      "text/plain": [
       "Canvas(toolbar=Toolbar(toolitems=[('Home', 'Reset original view', 'home', 'home'), ('Back', 'Back to previous …"
      ]
     },
     "metadata": {},
     "output_type": "display_data"
    }
   ],
   "source": [
    "#normalize the data\n",
    "X1 = np.divide((X1-X1.mean()), np.std(X1))\n",
    "X2 = np.divide((X2-X2.mean()), np.std(X2))\n",
    "X3 = np.divide((X3-X3.mean()), np.std(X3))\n",
    "X4 = np.divide((X4-X4.mean()), np.std(X4))\n",
    "X5 = np.divide((X5-X5.mean()), np.std(X5))\n",
    "X6 = np.divide((X6-X6.mean()), np.std(X6))\n",
    "X7 = np.divide((X7-X7.mean()), np.std(X7))\n",
    "X8 = np.divide((X8-X8.mean()), np.std(X8))\n",
    "X9 = np.divide((X9-X9.mean()), np.std(X9))\n",
    "X10 = np.divide((X10-X10.mean()), np.std(X10))\n",
    "\n",
    "#visualise normalised data\n",
    "\n",
    "#timeline - each variable on its own\n",
    "\n",
    "f=plt.figure(figsize=(10,9))\n",
    "f.add_subplot(10, 1, 1)\n",
    "plt.plot(y, X1, color='orange', label='mean temp')\n",
    "f.add_subplot(10, 1, 2)\n",
    "plt.plot(y, X2, color='red', label='max temp')\n",
    "f.add_subplot(10, 1, 3)\n",
    "plt.plot(y, X3, color='blue', label='min temp')\n",
    "f.add_subplot(10, 1, 4)\n",
    "plt.plot(y, X4, color='red',linestyle='dashed', label='mean max temp')\n",
    "f.add_subplot(10, 1, 5)\n",
    "plt.plot(y, X5, color='blue',linestyle='dashed', label='mean min temp')\n",
    "f.add_subplot(10, 1, 6)\n",
    "plt.plot(y, X6, color='lightsteelblue', label='rain')\n",
    "f.add_subplot(10, 1, 7)\n",
    "plt.plot(y, X7, color='green', label='grass mean temp')\n",
    "f.add_subplot(10, 1, 8)\n",
    "plt.plot(y, X8, color='plum', label='wind')\n",
    "f.add_subplot(10, 1, 9)\n",
    "plt.plot(y, X9, color='purple', label='highest gust')\n",
    "f.add_subplot(10, 1, 10)\n",
    "plt.plot(y, X10, color='gold', label='sun') #note that sun data disappears around 2010 - 2015\n",
    "f.legend()\n",
    "plt.show()\n",
    "\n",
    "#last 30 yrs - comparing variables that seem related --> slice [612:None]\n",
    "f=plt.figure(figsize=(10,9))\n",
    "f.add_subplot(4, 1, 1)\n",
    "plt.plot(y[612:None], X1[612:None], color='orange', label='mean temp')\n",
    "plt.plot(y[612:None], X2[612:None], color='red', label='max temp')\n",
    "plt.plot(y[612:None], X3[612:None], color='blue', label='min temp')\n",
    "plt.legend()\n",
    "f.add_subplot(4, 1, 2)\n",
    "plt.plot(y[612:None], X4[612:None], color='red', label='mean max temp')\n",
    "plt.plot(y[612:None], X5[612:None], color='blue', label='mean min temp')\n",
    "plt.legend()\n",
    "f.add_subplot(4, 1, 3)\n",
    "plt.plot(y[612:None], X6[612:None], color='lightsteelblue', label='rain')\n",
    "plt.plot(y[612:None], X10[612:None], color='gold', label='sun') #note that sun data disappears around 2010 - 2015\n",
    "plt.legend()\n",
    "f.add_subplot(4, 1, 4)\n",
    "plt.plot(y[612:None], X8[612:None], color='plum', label='wind')\n",
    "plt.plot(y[612:None], X9[612:None], color='purple', label='highest gust')\n",
    "plt.legend()\n",
    "plt.show()\n",
    "\n"
   ]
  },
  {
   "cell_type": "code",
   "execution_count": 118,
   "metadata": {
    "scrolled": true
   },
   "outputs": [
    {
     "data": {
      "application/vnd.jupyter.widget-view+json": {
       "model_id": "2dd3becb4232489791c102d18e1dac3d",
       "version_major": 2,
       "version_minor": 0
      },
      "text/plain": [
       "Canvas(toolbar=Toolbar(toolitems=[('Home', 'Reset original view', 'home', 'home'), ('Back', 'Back to previous …"
      ]
     },
     "metadata": {},
     "output_type": "display_data"
    }
   ],
   "source": [
    "#Ridge regression\n",
    "from sklearn.linear_model import Ridge\n",
    "from sklearn.model_selection import KFold\n",
    "from sklearn.metrics import mean_squared_error\n",
    "from sklearn.model_selection import train_test_split\n",
    "\n",
    "#transform y datetime into a numerical value for the model\n",
    "y1=[]; y2=[]\n",
    "for z in range(np.size(y)):\n",
    "    y1.append(y[z].year)\n",
    "    y2.append(y[z].month)\n",
    "y1=np.array(y1);y2=np.array(y2)\n",
    "y=np.column_stack((y1, y2))\n",
    "\n",
    "\n",
    "C_range=[1, 5, 10, 20, 50, 75, 100, 150, 200]\n",
    "MSE=[]\n",
    "std_error=[]\n",
    "\n",
    "for C in C_range:\n",
    "    ridge= Ridge(alpha=1/(2*C))\n",
    "    kf = KFold(n_splits=5)\n",
    "    temp=[]\n",
    "    for train, test in kf.split(X):\n",
    "        ridge.fit(X[train], y[train])\n",
    "        ypred = ridge.predict(X[test])\n",
    "        temp.append(mean_squared_error(y[test],ypred))\n",
    "    temp=np.array(temp)\n",
    "    MSE.append(temp.mean())\n",
    "    std_error.append(temp.std())\n",
    "MSE=np.array(MSE)\n",
    "std_error=np.array(std_error)\n",
    "fig = plt.figure()\n",
    "plt.errorbar(C_range, MSE, yerr=std_error, linewidth=3)\n",
    "plt.xlabel('C')\n",
    "plt.ylabel('Mean square error')\n",
    "plt.show()"
   ]
  },
  {
   "cell_type": "code",
   "execution_count": null,
   "metadata": {},
   "outputs": [],
   "source": []
  }
 ],
 "metadata": {
  "kernelspec": {
   "display_name": "Python 3",
   "language": "python",
   "name": "python3"
  },
  "language_info": {
   "codemirror_mode": {
    "name": "ipython",
    "version": 3
   },
   "file_extension": ".py",
   "mimetype": "text/x-python",
   "name": "python",
   "nbconvert_exporter": "python",
   "pygments_lexer": "ipython3",
   "version": "3.7.9"
  }
 },
 "nbformat": 4,
 "nbformat_minor": 4
}
