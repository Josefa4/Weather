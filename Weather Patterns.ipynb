{
 "cells": [
  {
   "cell_type": "code",
   "execution_count": 33,
   "metadata": {},
   "outputs": [
    {
     "name": "stdout",
     "output_type": "stream",
     "text": [
      "year       int64\n",
      "month      int64\n",
      "meant    float64\n",
      "maxtp    float64\n",
      "mintp    float64\n",
      "mnmax    float64\n",
      "mnmin    float64\n",
      "rain     float64\n",
      "gmin      object\n",
      "wdsp      object\n",
      "maxgt     object\n",
      "sun       object\n",
      "dtype: object\n"
     ]
    }
   ],
   "source": [
    "import pandas as pd\n",
    "import numpy as np\n",
    "import datetime\n",
    "\n",
    "#download data, organize into arrays\n",
    "\n",
    "df = pd.read_csv(\"mly2275.csv\", comment='#')\n",
    "#print(df.head())\n",
    "\n",
    "y1=df.iloc[:, 0]\n",
    "y2=df.iloc[:, 1]\n",
    "\n",
    "#making y an array of dates \n",
    "y=[]\n",
    "for i in range(np.size(y1, 0)):\n",
    "    y.append(datetime.date(y1[i], y2[i], 1))\n",
    "y=np.array(y)\n",
    "\n",
    "X1=df.iloc[:, 2]\n",
    "X2=df.iloc[:, 3]\n",
    "X3=df.iloc[:, 4]\n",
    "X4=df.iloc[:, 5]\n",
    "X5=df.iloc[:, 6]\n",
    "X6=df.iloc[:, 7]\n",
    "X7=df.iloc[:, 8] \n",
    "X8=df.iloc[:, 9]\n",
    "X9=df.iloc[:, 10]\n",
    "X10=df.iloc[:, 11]\n",
    "X=np.column_stack((X1, X2, X3, X4, X5, X6, X7, X8, X9, X10))\n",
    "\n",
    "print(df.dtypes) #some of our columns came out as 'object' (string) --> we'll have to fix that"
   ]
  },
  {
   "cell_type": "code",
   "execution_count": 36,
   "metadata": {
    "scrolled": false
   },
   "outputs": [],
   "source": [
    "#normalize the data\n",
    "X1 = np.divide((X1-X1.mean()), np.std(X1))\n",
    "X2 = np.divide((X2-X2.mean()), np.std(X2))\n",
    "X3 = np.divide((X3-X3.mean()), np.std(X3))\n",
    "X4 = np.divide((X4-X4.mean()), np.std(X4))\n",
    "X5 = np.divide((X5-X5.mean()), np.std(X5))\n",
    "X6 = np.divide((X6-X6.mean()), np.std(X6))\n",
    "\n",
    "#the data for some of the following is missing --> convert the string None to None as term, also conver to numeric\n",
    "\n",
    "for i in range(np.size(X7, 0)):\n",
    "    if X7[i]=='None':\n",
    "        X7[i]=None\n",
    "X7=X7.astype(float)\n",
    "for i in range(np.size(X8, 0)):\n",
    "    if X8[i]=='None':\n",
    "        X8[i]=None\n",
    "X8=X8.astype(float)\n",
    "for i in range(np.size(X9, 0)):\n",
    "    if X9[i]=='None':\n",
    "        X9[i]=None\n",
    "X9=X9.astype(float)\n",
    "for i in range(np.size(X10, 0)):\n",
    "    if X10[i]=='None':\n",
    "        X10[i]=None\n",
    "X10=X10.astype(float)\n",
    "\n",
    "#now that we've handled missing values, normalise these as well\n",
    "X7 = np.divide((X7-X7.mean()), np.std(X7))\n",
    "X8 = np.divide((X8-X8.mean()), np.std(X8))\n",
    "X9 = np.divide((X9-X9.mean()), np.std(X9))\n",
    "X10 = np.divide((X10-X10.mean()), np.std(X10))"
   ]
  },
  {
   "cell_type": "code",
   "execution_count": 39,
   "metadata": {},
   "outputs": [
    {
     "data": {
      "application/vnd.jupyter.widget-view+json": {
       "model_id": "f27b5a49292149538c9873c725b359f5",
       "version_major": 2,
       "version_minor": 0
      },
      "text/plain": [
       "Canvas(toolbar=Toolbar(toolitems=[('Home', 'Reset original view', 'home', 'home'), ('Back', 'Back to previous …"
      ]
     },
     "metadata": {},
     "output_type": "display_data"
    }
   ],
   "source": [
    "import matplotlib.pyplot as plt\n",
    "%matplotlib widget\n",
    "\n",
    "#visualise data\n",
    "\n",
    "#timeline\n",
    "\n",
    "f=plt.figure()\n",
    "plt.xlabel('Time')\n",
    "plt.yticks(np.arange(0, 300, 10))\n",
    "plt.yticks()\n",
    "plt.plot(y, X1, label='mean temp')\n",
    "plt.plot(y, X2, label='max temp')\n",
    "plt.plot(y, X3, label='min temp')\n",
    "plt.plot(y, X4)\n",
    "plt.plot(y, X5)\n",
    "plt.plot(y, X6, label='rain')\n",
    "plt.plot(y, X7)\n",
    "plt.plot(y, X8, label='wind')\n",
    "plt.plot(y, X9)\n",
    "plt.plot(y, X10, label='sun') #note that sun data disappears around 2010 - 2015\n",
    "plt.legend()\n",
    "plt.show()\n"
   ]
  },
  {
   "cell_type": "code",
   "execution_count": 38,
   "metadata": {},
   "outputs": [],
   "source": []
  }
 ],
 "metadata": {
  "kernelspec": {
   "display_name": "Python 3",
   "language": "python",
   "name": "python3"
  },
  "language_info": {
   "codemirror_mode": {
    "name": "ipython",
    "version": 3
   },
   "file_extension": ".py",
   "mimetype": "text/x-python",
   "name": "python",
   "nbconvert_exporter": "python",
   "pygments_lexer": "ipython3",
   "version": "3.7.9"
  }
 },
 "nbformat": 4,
 "nbformat_minor": 4
}
